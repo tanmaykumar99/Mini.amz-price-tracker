{
 "cells": [
  {
   "cell_type": "markdown",
   "id": "dcc7948c-c386-4b07-a562-55e7195ad914",
   "metadata": {},
   "source": [
    "## Amazon Web Scraping Project"
   ]
  },
  {
   "cell_type": "code",
   "execution_count": 1,
   "id": "41ae85e7-4108-46d2-aa75-040e5c46fe6e",
   "metadata": {},
   "outputs": [],
   "source": [
    "from bs4 import BeautifulSoup\n",
    "import requests\n",
    "import datetime\n",
    "import smtplib ##For sending e-mails to ourselves\n",
    "import time"
   ]
  },
  {
   "cell_type": "code",
   "execution_count": 2,
   "id": "8672826f-f2b2-42f5-b5ed-87c09440f464",
   "metadata": {},
   "outputs": [],
   "source": [
    "url = 'https://www.amazon.in/PlayStation%C2%AE5-Console-STD-SLIM-Bundle/dp/B0FG835ZCY/ref=sr_1_2?crid=3RQH36R6TSJUD&dib=eyJ2IjoiMSJ9.sK2waI5R3_IPKWhbHtRaqrJ3b7hRorwkHQLfXBHm14QSwSSbGaO64W8lnBMCG-wMOT0VrmAky5nvxuXTucOZaLNt3IMDuBZKCqwzyh32mfoXtyAR0YpLUY7TmHgExpSwmi6moCF4HKVKdiXCHpw9Hj0Dzz1Hx8YgZ7qh508Ggd2ZpcZBIiICxU6BaGcIqWM4adW1XDWuX-xSZ3zfXrlkNbcYau2UYgy3Cz05s3bBQLg.pHNTZMTp7AszbAWuIjzcJRryP_57xc7y8Tqh2teraDE&dib_tag=se&keywords=playstation+5+console&qid=1752693647&sprefix=play%2Caps%2C280&sr=8-2'\n",
    "headers = {\n",
    "  \"Accept\": \"text/html,application/xhtml+xml,application/xml;q=0.9,image/webp,image/apng,*/*;q=0.8\",\n",
    "  \"Accept-Language\": \"en-US,en;q=0.9\",\n",
    "  \"User-Agent\": \"Mozilla/5.0 (Windows NT 10.0; Win64; x64) AppleWebKit/537.36 (KHTML, like Gecko) Chrome/114.0.0.0 Safari/537.36\",\n",
    "  \"Connection\": \"keep-alive\",\n",
    "  \"Upgrade-Insecure-Requests\": \"1\",\n",
    "  \"Referer\": \"https://www.amazon.com/\"\n",
    "}"
   ]
  },
  {
   "cell_type": "code",
   "execution_count": 3,
   "id": "468e87d8-31d5-490b-904d-a1672a65277b",
   "metadata": {},
   "outputs": [],
   "source": [
    "page = requests.get(url,headers=headers)"
   ]
  },
  {
   "cell_type": "code",
   "execution_count": 4,
   "id": "909c9f02-532d-4303-a9ba-4234583c546c",
   "metadata": {},
   "outputs": [],
   "source": [
    "soup1 = BeautifulSoup(page.content, 'html.parser')\n",
    "soup2 = BeautifulSoup(soup1.prettify(),'html.parser')"
   ]
  },
  {
   "cell_type": "code",
   "execution_count": 5,
   "id": "b6f39e3d-b073-4e1a-b5f3-0df62a0c45a7",
   "metadata": {},
   "outputs": [
    {
     "name": "stdout",
     "output_type": "stream",
     "text": [
      "\n",
      "           PlayStation®5 Console STD SLIM (COD Bundle)\n",
      "          \n"
     ]
    }
   ],
   "source": [
    "dirty_title = soup2.find(id='productTitle').get_text()\n",
    "print(dirty_title)"
   ]
  },
  {
   "cell_type": "code",
   "execution_count": 6,
   "id": "ee07681a-4893-4a38-97fe-444fd1f31a56",
   "metadata": {},
   "outputs": [
    {
     "name": "stdout",
     "output_type": "stream",
     "text": [
      "\n",
      "           PlayStation 5 Console STD SLIM (COD Bundle)\n",
      "          \n"
     ]
    }
   ],
   "source": [
    "dirty_title2 = dirty_title.replace('®','')\n",
    "title = dirty_title2.replace('PlayStation5','PlayStation 5')\n",
    "print(title)"
   ]
  },
  {
   "cell_type": "code",
   "execution_count": 7,
   "id": "779a35dc-6c9b-435a-9ea9-571b7cf686e6",
   "metadata": {},
   "outputs": [
    {
     "name": "stdout",
     "output_type": "stream",
     "text": [
      "\n",
      "\n",
      "                              ₹54,990.00\n",
      "                             \n",
      "\n",
      "\n",
      "                               ₹\n",
      "                              \n",
      "\n",
      "                               54,990\n",
      "                               \n",
      "                                .\n",
      "                               \n",
      "\n",
      "\n",
      "                               00\n",
      "                              \n",
      "\n",
      "\n"
     ]
    }
   ],
   "source": [
    "price=soup2.find(class_='a-price').get_text()\n",
    "print(price)"
   ]
  },
  {
   "cell_type": "code",
   "execution_count": 8,
   "id": "34c94eaa-eab7-4e92-90b8-1e90046d2299",
   "metadata": {},
   "outputs": [
    {
     "name": "stdout",
     "output_type": "stream",
     "text": [
      "54,990.00\n"
     ]
    }
   ],
   "source": [
    "## Cleaning up white spaces and unneccesary text:\n",
    "def clean_up():\n",
    "    import re\n",
    "    textt = \"\"\"\n",
    "\n",
    "                              ₹54,990.00\n",
    "                             \n",
    "\n",
    "\n",
    "                               ₹\n",
    "                              \n",
    "\n",
    "                               54,990\n",
    "                               \n",
    "                                .\n",
    "                               \n",
    "\n",
    "\n",
    "                               00\n",
    "                             \n",
    "\n",
    "\n",
    "\"\"\"\n",
    "    match = re.search(r'\\d{1,3}(,\\d{3})*(\\.\\d{2})?', textt)\n",
    "    if match:\n",
    "        return match.group(0)\n",
    "    return None\n",
    "amount = clean_up()\n",
    "print(amount)"
   ]
  },
  {
   "cell_type": "code",
   "execution_count": 9,
   "id": "8815e5e0-d458-4c08-858b-0c20c2e4201d",
   "metadata": {},
   "outputs": [
    {
     "name": "stdout",
     "output_type": "stream",
     "text": [
      "PlayStation 5 Console STD SLIM (COD Bundle) \n",
      " 54,990.00\n"
     ]
    }
   ],
   "source": [
    "title = title.strip()\n",
    "amount = amount.strip()\n",
    "print(title,'\\n',amount)"
   ]
  },
  {
   "cell_type": "code",
   "execution_count": 11,
   "id": "8a2090ae-1d66-4459-9844-4032662086a1",
   "metadata": {},
   "outputs": [],
   "source": [
    "import csv\n",
    "header = ['Title','Price','Date']\n",
    "data = [title, amount, today]"
   ]
  },
  {
   "cell_type": "code",
   "execution_count": 12,
   "id": "be2d2f55-2aca-4c0e-b932-c2f9e9ab00bf",
   "metadata": {},
   "outputs": [],
   "source": [
    "with open('Amazon Web Scraper Dataset.csv', 'w', newline='', encoding='UTF8') as c:\n",
    "    writer = csv.writer(c)\n",
    "    writer.writerow(header)\n",
    "    writer.writerow(data)"
   ]
  },
  {
   "cell_type": "code",
   "execution_count": 10,
   "id": "2978626b-6039-4627-85c4-f73bea837974",
   "metadata": {},
   "outputs": [],
   "source": [
    "##datetime was imported so we can include a time stamp of when we collected this data. Very useful to know price trends\n",
    "today = datetime.date.today()\n",
    "##today=date_obj.strftime(\"%d-%m-%Y\") ##Converting from USA format to Indian format (Here, we will avoid and convert format in excel later)"
   ]
  },
  {
   "cell_type": "code",
   "execution_count": null,
   "id": "654c2608-7223-46c7-84c9-36a456a88a18",
   "metadata": {},
   "outputs": [],
   "source": [
    "##Appending data to this as this is a price tracker over time"
   ]
  },
  {
   "cell_type": "code",
   "execution_count": 34,
   "id": "39745aed-2679-4a31-99a2-5c29e41450a8",
   "metadata": {},
   "outputs": [],
   "source": [
    "## Appending data to the csv file, we replace 'w' with 'a+' and remove header, because that is alr created\n",
    "with open('Amazon Web Scraper Dataset.csv', 'a+', newline='', encoding='UTF8') as c:\n",
    "    writer = csv.writer(c)\n",
    "    writer.writerow(data)"
   ]
  },
  {
   "cell_type": "code",
   "execution_count": 14,
   "id": "8a205d85-b74e-4ebc-9d0b-d1fa15b2bd38",
   "metadata": {},
   "outputs": [],
   "source": [
    "##To Automate this appending, we do the following:\n",
    "def check_price():\n",
    "    url = 'https://www.amazon.in/PlayStation%C2%AE5-Console-STD-SLIM-Bundle/dp/B0FG835ZCY/ref=sr_1_2?crid=3RQH36R6TSJUD&dib=eyJ2IjoiMSJ9.sK2waI5R3_IPKWhbHtRaqrJ3b7hRorwkHQLfXBHm14QSwSSbGaO64W8lnBMCG-wMOT0VrmAky5nvxuXTucOZaLNt3IMDuBZKCqwzyh32mfoXtyAR0YpLUY7TmHgExpSwmi6moCF4HKVKdiXCHpw9Hj0Dzz1Hx8YgZ7qh508Ggd2ZpcZBIiICxU6BaGcIqWM4adW1XDWuX-xSZ3zfXrlkNbcYau2UYgy3Cz05s3bBQLg.pHNTZMTp7AszbAWuIjzcJRryP_57xc7y8Tqh2teraDE&dib_tag=se&keywords=playstation+5+console&qid=1752693647&sprefix=play%2Caps%2C280&sr=8-2'\n",
    "    headers = {\n",
    "  \"Accept\": \"text/html,application/xhtml+xml,application/xml;q=0.9,image/webp,image/apng,*/*;q=0.8\",\n",
    "  \"Accept-Language\": \"en-US,en;q=0.9\",\n",
    "  \"User-Agent\": \"Mozilla/5.0 (Windows NT 10.0; Win64; x64) AppleWebKit/537.36 (KHTML, like Gecko) Chrome/114.0.0.0 Safari/537.36\",\n",
    "  \"Connection\": \"keep-alive\",\n",
    "  \"Upgrade-Insecure-Requests\": \"1\",\n",
    "  \"Referer\": \"https://www.amazon.com/\"}\n",
    "    page = requests.get(url,headers=headers)\n",
    "    soup1 = BeautifulSoup(page.content, 'html.parser')\n",
    "    soup2 = BeautifulSoup(soup1.prettify(),'html.parser')\n",
    "    dirty_title = soup2.find(id='productTitle').get_text()\n",
    "    dirty_title2 = dirty_title.replace('®','')\n",
    "    title = dirty_title2.replace('PlayStation5','PlayStation 5')\n",
    "    clean_up()\n",
    "    import datetime\n",
    "    today = datetime.date.today()\n",
    "    import csv\n",
    "    header = ['Title','Price','Date']\n",
    "    data = [title, amount, today]\n",
    "    with open('Amazon Web Scraper Dataset.csv', 'a+', newline='', encoding='UTF8') as c:\n",
    "        writer = csv.writer(c)\n",
    "        writer.writerow(data)"
   ]
  },
  {
   "cell_type": "code",
   "execution_count": null,
   "id": "90a6df96-2add-4474-a181-9ed94a342ded",
   "metadata": {},
   "outputs": [],
   "source": [
    "while(True):\n",
    "    check_price()\n",
    "    time.sleep(604800)"
   ]
  },
  {
   "cell_type": "code",
   "execution_count": null,
   "id": "7324fb80-d22f-4a11-ace4-68021627ade0",
   "metadata": {},
   "outputs": [],
   "source": [
    "## If we want a mail sent to us:\n",
    "def send_mail():\n",
    "    server = smtplib.SMTP_SSL('smtp.gmail.com',465)\n",
    "    server.ehlo()\n",
    "    server.starttls()\n",
    "    server.ehlo()\n",
    "    server.login('tanmay99.kumar@gmail.com','****************') ##Using app password\n",
    "    \n",
    "    subject = \"Ps5 is finally below 50k! Now is your chance to buy!\"\n",
    "    body = \"Tanmay, This is the moment we have been waiting for. Now is your chance to pick up this console.Don't mess it up! Link here: https://www.amazon.in/PlayStation%C2%AE5-Console-STD-SLIM-Bundle/dp/B0FG835ZCY/ref=sr_1_2?crid=3RQH36R6TSJUD&dib=eyJ2IjoiMSJ9.sK2waI5R3_IPKWhbHtRaqrJ3b7hRorwkHQLfXBHm14QSwSSbGaO64W8lnBMCG-wMOT0VrmAky5nvxuXTucOZaLNt3IMDuBZKCqwzyh32mfoXtyAR0YpLUY7TmHgExpSwmi6moCF4HKVKdiXCHpw9Hj0Dzz1Hx8YgZ7qh508Ggd2ZpcZBIiICxU6BaGcIqWM4adW1XDWuX-xSZ3zfXrlkNbcYau2UYgy3Cz05s3bBQLg.pHNTZMTp7AszbAWuIjzcJRryP_57xc7y8Tqh2teraDE&dib_tag=se&keywords=playstation+5+console&qid=1752693647&sprefix=play%2Caps%2C280&sr=8-2\"\n",
    "   \n",
    "    msg = f\"Subject: {subject}\\n\\n{body}\"\n",
    "    \n",
    "    server.sendmail(\n",
    "        \"tanmay99.kumar@gmail.com\",\n",
    "        msg\n",
    "     server.quit()\n",
    "    )"
   ]
  },
  {
   "cell_type": "code",
   "execution_count": null,
   "id": "5afb5edb-a5f6-4b2d-aa70-655319dcf5e0",
   "metadata": {},
   "outputs": [],
   "source": []
  },
  {
   "cell_type": "code",
   "execution_count": null,
   "id": "49e538f1-54cb-4155-9839-1a8ecae1a455",
   "metadata": {},
   "outputs": [],
   "source": []
  }
 ],
 "metadata": {
  "kernelspec": {
   "display_name": "Python [conda env:base] *",
   "language": "python",
   "name": "conda-base-py"
  },
  "language_info": {
   "codemirror_mode": {
    "name": "ipython",
    "version": 3
   },
   "file_extension": ".py",
   "mimetype": "text/x-python",
   "name": "python",
   "nbconvert_exporter": "python",
   "pygments_lexer": "ipython3",
   "version": "3.13.5"
  }
 },
 "nbformat": 4,
 "nbformat_minor": 5
}
